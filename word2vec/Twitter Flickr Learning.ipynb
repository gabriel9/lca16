{
 "cells": [
  {
   "cell_type": "code",
   "execution_count": 2,
   "metadata": {
    "collapsed": false
   },
   "outputs": [],
   "source": [
    "import sys\n",
    "import json\n",
    "import urllib.request\n",
    "import xml.etree.ElementTree as ET\n",
    "\n",
    "import flickr_fetcher"
   ]
  },
  {
   "cell_type": "code",
   "execution_count": 3,
   "metadata": {
    "collapsed": false
   },
   "outputs": [],
   "source": [
    "sys.path.append('../../')\n",
    "import real_twitter_credentials as tc"
   ]
  },
  {
   "cell_type": "code",
   "execution_count": 4,
   "metadata": {
    "collapsed": true
   },
   "outputs": [],
   "source": [
    "resturl = ''\n",
    "resturl += \"https://api.flickr.com/services/rest/?method=flickr.photos.search\"\n",
    "resturl += \"&api_key=%s\" % tc.api_key\n",
    "resturl += '&text=sunny'\n",
    "resturl += \"&safe_search=1&per_page=20\""
   ]
  },
  {
   "cell_type": "code",
   "execution_count": 5,
   "metadata": {
    "collapsed": false
   },
   "outputs": [
    {
     "name": "stdout",
     "output_type": "stream",
     "text": [
      "https://api.flickr.com/services/rest/?method=flickr.photos.search&api_key=dacde8973b09c6f1d2992fe2df7aafdc&text=sunny&safe_search=1&per_page=20\n"
     ]
    }
   ],
   "source": [
    "print(resturl)"
   ]
  },
  {
   "cell_type": "code",
   "execution_count": 6,
   "metadata": {
    "collapsed": false
   },
   "outputs": [],
   "source": [
    "with urllib.request.urlopen(resturl) as response:\n",
    "   html = response.read()"
   ]
  },
  {
   "cell_type": "code",
   "execution_count": 7,
   "metadata": {
    "collapsed": false
   },
   "outputs": [
    {
     "data": {
      "text/plain": [
       "{'farm': '2',\n",
       " 'id': '24133783883',\n",
       " 'isfamily': '0',\n",
       " 'isfriend': '0',\n",
       " 'ispublic': '1',\n",
       " 'owner': '57336354@N00',\n",
       " 'secret': 'a40e5df938',\n",
       " 'server': '1619',\n",
       " 'title': 'rainy winter mornings...'}"
      ]
     },
     "execution_count": 7,
     "metadata": {},
     "output_type": "execute_result"
    }
   ],
   "source": [
    "tree = ET.fromstring(html)\n",
    "photos_list = tree.getchildren()[0]\n",
    "first_photo = photos_list.getchildren()[0]\n",
    "first_photo.attrib"
   ]
  },
  {
   "cell_type": "code",
   "execution_count": 8,
   "metadata": {
    "collapsed": false
   },
   "outputs": [],
   "source": [
    "image_url_pattern = 'https://farm{farm}.staticflickr.com/{server}/{id}_{secret}.jpg'\n",
    "actual_image_url = image_url_pattern.format(**first_photo.attrib)"
   ]
  },
  {
   "cell_type": "code",
   "execution_count": 9,
   "metadata": {
    "collapsed": false
   },
   "outputs": [
    {
     "data": {
      "text/plain": [
       "'https://farm2.staticflickr.com/1619/24133783883_a40e5df938.jpg'"
      ]
     },
     "execution_count": 9,
     "metadata": {},
     "output_type": "execute_result"
    }
   ],
   "source": [
    "actual_image_url"
   ]
  },
  {
   "cell_type": "code",
   "execution_count": 10,
   "metadata": {
    "collapsed": false
   },
   "outputs": [
    {
     "data": {
      "text/plain": [
       "'https://farm2.staticflickr.com/1503/24377660909_1aeec67c5a.jpg'"
      ]
     },
     "execution_count": 10,
     "metadata": {},
     "output_type": "execute_result"
    }
   ],
   "source": [
    "flickr_fetcher.fetch_test_url('test me')"
   ]
  },
  {
   "cell_type": "code",
   "execution_count": 12,
   "metadata": {
    "collapsed": false
   },
   "outputs": [
    {
     "data": {
      "text/plain": [
       "'https://farm2.staticflickr.com/1708/24132577354_76dc6268af.jpg'"
      ]
     },
     "execution_count": 12,
     "metadata": {},
     "output_type": "execute_result"
    }
   ],
   "source": [
    "flickr_fetcher.fetch_url('sunny')"
   ]
  },
  {
   "cell_type": "code",
   "execution_count": null,
   "metadata": {
    "collapsed": true
   },
   "outputs": [],
   "source": []
  }
 ],
 "metadata": {
  "kernelspec": {
   "display_name": "Python 3",
   "language": "python",
   "name": "python3"
  },
  "language_info": {
   "codemirror_mode": {
    "name": "ipython",
    "version": 3
   },
   "file_extension": ".py",
   "mimetype": "text/x-python",
   "name": "python",
   "nbconvert_exporter": "python",
   "pygments_lexer": "ipython3",
   "version": "3.4.4"
  }
 },
 "nbformat": 4,
 "nbformat_minor": 0
}
