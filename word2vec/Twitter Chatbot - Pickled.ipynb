{
 "cells": [
  {
   "cell_type": "code",
   "execution_count": 19,
   "metadata": {
    "collapsed": false
   },
   "outputs": [],
   "source": [
    "import json\n",
    "import urllib.request\n",
    "import random\n",
    "import PIL\n",
    "import word2vec\n",
    "import sys\n",
    "import memegenerator\n",
    "import scipy.ndimage\n",
    "import pickle"
   ]
  },
  {
   "cell_type": "code",
   "execution_count": 20,
   "metadata": {
    "collapsed": false
   },
   "outputs": [],
   "source": [
    "sys.path.append('../../')\n",
    "import flickr_fetcher"
   ]
  },
  {
   "cell_type": "code",
   "execution_count": 21,
   "metadata": {
    "collapsed": false
   },
   "outputs": [],
   "source": [
    "model = word2vec.load('text8.bin')"
   ]
  },
  {
   "cell_type": "code",
   "execution_count": 22,
   "metadata": {
    "collapsed": false
   },
   "outputs": [],
   "source": [
    "public_tweets = pickle.load(open('tweets.pkl', 'rb'))"
   ]
  },
  {
   "cell_type": "code",
   "execution_count": 23,
   "metadata": {
    "collapsed": false
   },
   "outputs": [],
   "source": [
    "valid_tweets = []\n",
    "best_tweets = []\n",
    "for t in public_tweets:\n",
    "    words = t.text.split()\n",
    "    words = [w for w in words if w in model.vocab]\n",
    "    words2 = [w for w in words if len(w) > 3]\n",
    "    if len(words) < 3:\n",
    "        continue\n",
    "        \n",
    "    if len(words2) >= 3:\n",
    "        best_tweets.append(t)\n",
    "        \n",
    "    valid_tweets.append(t)\n",
    "\n",
    "tweet = random.choice(public_tweets)\n",
    "if best_tweets:\n",
    "    tweet = random.choice(best_tweets)\n"
   ]
  },
  {
   "cell_type": "code",
   "execution_count": 24,
   "metadata": {
    "collapsed": false
   },
   "outputs": [
    {
     "data": {
      "text/plain": [
       "\"If you're wondering why like adoption of FOSS feels like it's going backwards? Try asking why people's needs *aren't met* #lca2016\""
      ]
     },
     "execution_count": 24,
     "metadata": {},
     "output_type": "execute_result"
    }
   ],
   "source": [
    "tweet.text"
   ]
  },
  {
   "cell_type": "code",
   "execution_count": 25,
   "metadata": {
    "collapsed": false
   },
   "outputs": [],
   "source": [
    "words = tweet.text.split()\n",
    "words2 = [w for w in words if len(w) > 3]\n",
    "words2 = [w for w in words2 if w in model.vocab]\n",
    "\n",
    "ws = []\n",
    "while(len(ws) <= 2):\n",
    "    \n",
    "    using = words\n",
    "    if words2:\n",
    "        using = words2\n",
    "    \n",
    "    w = random.choice(using)\n",
    "    using.pop(using.index(w))\n",
    "    if w in model.vocab:\n",
    "        ws.append(w)\n",
    "        \n"
   ]
  },
  {
   "cell_type": "code",
   "execution_count": 26,
   "metadata": {
    "collapsed": false
   },
   "outputs": [],
   "source": [
    "ws = ['been', 'tomorrow', 'appears',]"
   ]
  },
  {
   "cell_type": "code",
   "execution_count": 27,
   "metadata": {
    "collapsed": false
   },
   "outputs": [],
   "source": [
    "indexes, metrics = model.analogy(pos=[ws[0], ws[1]], neg=[ws[2]], n=10)"
   ]
  },
  {
   "cell_type": "code",
   "execution_count": 28,
   "metadata": {
    "collapsed": false
   },
   "outputs": [],
   "source": [
    "ws.append(model.vocab[indexes][0])"
   ]
  },
  {
   "cell_type": "code",
   "execution_count": 29,
   "metadata": {
    "collapsed": true
   },
   "outputs": [],
   "source": [
    "if using:\n",
    "    ws.append(using[0])\n",
    "else:\n",
    "    ws.append(ws[0])"
   ]
  },
  {
   "cell_type": "code",
   "execution_count": 30,
   "metadata": {
    "collapsed": true
   },
   "outputs": [],
   "source": [
    "ws = ['been', 'tomorrow', 'appears', 'python', 'found']"
   ]
  },
  {
   "cell_type": "code",
   "execution_count": 31,
   "metadata": {
    "collapsed": false
   },
   "outputs": [
    {
     "name": "stdout",
     "output_type": "stream",
     "text": [
      "If you're wondering why like adoption of FOSS feels like it's going backwards? Try asking why people's needs *aren't met* #lca2016\n",
      "['been', 'tomorrow', 'appears', 'python', 'found']\n"
     ]
    }
   ],
   "source": [
    "print(tweet.text)\n",
    "print(ws)"
   ]
  },
  {
   "cell_type": "code",
   "execution_count": 32,
   "metadata": {
    "collapsed": false
   },
   "outputs": [],
   "source": [
    "image_url = flickr_fetcher.fetch_url(ws[4])\n",
    "\n",
    "filename = urllib.request.urlretrieve(image_url)[0]\n",
    "topString = '%s is to %s' % (ws[0], ws[1])\n",
    "bottomString = \"as %s is to %s\" % (ws[2], ws[3])\n",
    "memegenerator.make_meme(topString, bottomString, filename)"
   ]
  },
  {
   "cell_type": "code",
   "execution_count": 33,
   "metadata": {
    "collapsed": true
   },
   "outputs": [],
   "source": [
    "\n",
    "imagename = 'temp.png'\n",
    "%matplotlib inline"
   ]
  },
  {
   "cell_type": "code",
   "execution_count": 34,
   "metadata": {
    "collapsed": true
   },
   "outputs": [],
   "source": [
    "from PIL import Image\n",
    "im = Image.open(imagename)\n",
    "im.show()\n"
   ]
  },
  {
   "cell_type": "code",
   "execution_count": null,
   "metadata": {
    "collapsed": true
   },
   "outputs": [],
   "source": []
  },
  {
   "cell_type": "code",
   "execution_count": null,
   "metadata": {
    "collapsed": true
   },
   "outputs": [],
   "source": []
  }
 ],
 "metadata": {
  "kernelspec": {
   "display_name": "Python 3",
   "language": "python",
   "name": "python3"
  },
  "language_info": {
   "codemirror_mode": {
    "name": "ipython",
    "version": 3
   },
   "file_extension": ".py",
   "mimetype": "text/x-python",
   "name": "python",
   "nbconvert_exporter": "python",
   "pygments_lexer": "ipython3",
   "version": "3.4.4"
  }
 },
 "nbformat": 4,
 "nbformat_minor": 0
}
