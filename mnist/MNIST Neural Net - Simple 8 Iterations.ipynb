{
 "cells": [
  {
   "cell_type": "code",
   "execution_count": 1,
   "metadata": {
    "collapsed": false
   },
   "outputs": [],
   "source": [
    "\"\"\"\n",
    "mnist_loader\n",
    "~~~~~~~~~~~~\n",
    "\n",
    "A library to load the MNIST image data.  For details of the data\n",
    "structures that are returned, see the doc strings for ``load_data``\n",
    "and ``load_data_wrapper``.  In practice, ``load_data_wrapper`` is the\n",
    "function usually called by our neural network code.\n",
    "\"\"\"\n",
    "\n",
    "#### Libraries\n",
    "# Standard library\n",
    "import pickle as cPickle  # Sorry, workaround for Python 3.4\n",
    "import gzip\n",
    "\n",
    "# Third-party libraries\n",
    "import numpy as np\n",
    "\n",
    "def load_data():\n",
    "    f = gzip.open('mnist.pkl.gz', 'rb')\n",
    "    training_data, validation_data, test_data = cPickle.load(f, encoding='latin1')  # Make it work with Py3.x\n",
    "    f.close()\n",
    "    return (training_data, validation_data, test_data)\n",
    "\n",
    "def load_data_wrapper():\n",
    "    tr_d, va_d, te_d = load_data()\n",
    "    training_inputs = [np.reshape(x, (784, 1)) for x in tr_d[0]]\n",
    "    training_results = [vectorized_result(y) for y in tr_d[1]]\n",
    "    training_data = zip(training_inputs, training_results)\n",
    "    validation_inputs = [np.reshape(x, (784, 1)) for x in va_d[0]]\n",
    "    validation_data = zip(validation_inputs, va_d[1])\n",
    "    test_inputs = [np.reshape(x, (784, 1)) for x in te_d[0]]\n",
    "    test_data = zip(test_inputs, te_d[1])\n",
    "    return (training_data, validation_data, test_data)\n",
    "\n",
    "def vectorized_result(j):\n",
    "    e = np.zeros((10, 1))\n",
    "    e[j] = 1.0\n",
    "    return e\n"
   ]
  },
  {
   "cell_type": "code",
   "execution_count": 2,
   "metadata": {
    "collapsed": false
   },
   "outputs": [
    {
     "name": "stdout",
     "output_type": "stream",
     "text": [
      "CPU times: user 1.65 s, sys: 487 ms, total: 2.13 s\n",
      "Wall time: 2.15 s\n"
     ]
    }
   ],
   "source": [
    "%time training_data, validation_data, test_data = load_data_wrapper()"
   ]
  },
  {
   "cell_type": "code",
   "execution_count": 3,
   "metadata": {
    "collapsed": false
   },
   "outputs": [
    {
     "name": "stdout",
     "output_type": "stream",
     "text": [
      "CPU times: user 56.6 ms, sys: 24.7 ms, total: 81.3 ms\n",
      "Wall time: 82.5 ms\n"
     ]
    }
   ],
   "source": [
    "%time x, y = zip(*training_data)\n",
    "\n",
    "x = np.array(x)\n",
    "x = x.reshape(50000, 784)\n",
    "\n",
    "y = np.array(y)\n",
    "y = y.reshape(50000, 10)"
   ]
  },
  {
   "cell_type": "code",
   "execution_count": 4,
   "metadata": {
    "collapsed": false
   },
   "outputs": [
    {
     "name": "stdout",
     "output_type": "stream",
     "text": [
      "Using Theano backend.\n"
     ]
    },
    {
     "name": "stderr",
     "output_type": "stream",
     "text": [
      "/Users/tjl/Development/sandpit/lca16/source_packages/Theano/theano/tensor/signal/downsample.py:5: UserWarning: downsample module has been moved to the pool module.\n",
      "  warnings.warn(\"downsample module has been moved to the pool module.\")\n"
     ]
    }
   ],
   "source": [
    "import keras\n",
    "\n",
    "\n",
    "import numpy as np\n",
    "import pandas as pd\n",
    "\n",
    "from keras.models import Sequential\n",
    "from keras.layers.core import Dense, Dropout, Activation\n",
    "from keras.layers.normalization import BatchNormalization\n",
    "from keras.layers.advanced_activations import PReLU\n",
    "from keras.utils import np_utils, generic_utils\n",
    "\n",
    "from sklearn.preprocessing import StandardScaler\n",
    "\n",
    "np.random.seed(1337) # for reproducibility\n",
    "\n",
    "\n",
    "def preprocess_data(X, scaler=None):\n",
    "    if not scaler:\n",
    "        scaler = StandardScaler()\n",
    "        scaler.fit(X)\n",
    "    X = scaler.transform(X)\n",
    "    return X, scaler\n",
    "\n"
   ]
  },
  {
   "cell_type": "code",
   "execution_count": 5,
   "metadata": {
    "collapsed": false
   },
   "outputs": [
    {
     "name": "stdout",
     "output_type": "stream",
     "text": [
      "10 classes\n",
      "784 dims\n"
     ]
    }
   ],
   "source": [
    " \n",
    "nb_classes = y.shape[1]\n",
    "print(nb_classes, 'classes')\n",
    "\n",
    "dims = x.shape[1]\n",
    "print(dims, 'dims')\n",
    "\n",
    " \n"
   ]
  },
  {
   "cell_type": "code",
   "execution_count": 8,
   "metadata": {
    "collapsed": false
   },
   "outputs": [
    {
     "name": "stdout",
     "output_type": "stream",
     "text": [
      "Building model...\n",
      "Training model...\n",
      "Train on 42500 samples, validate on 7500 samples\n",
      "Epoch 1/8\n",
      "42500/42500 [==============================] - 7s - loss: 0.5229 - val_loss: 0.2689\n",
      "Epoch 2/8\n",
      "42500/42500 [==============================] - 9s - loss: 0.2152 - val_loss: 0.1900\n",
      "Epoch 3/8\n",
      "42500/42500 [==============================] - 9s - loss: 0.1485 - val_loss: 0.1473\n",
      "Epoch 4/8\n",
      "42500/42500 [==============================] - 9s - loss: 0.1120 - val_loss: 0.1275\n",
      "Epoch 5/8\n",
      "42500/42500 [==============================] - 9s - loss: 0.0910 - val_loss: 0.1130\n",
      "Epoch 6/8\n",
      "42500/42500 [==============================] - 9s - loss: 0.0746 - val_loss: 0.1097\n",
      "Epoch 7/8\n",
      "42500/42500 [==============================] - 8s - loss: 0.0649 - val_loss: 0.1095\n",
      "Epoch 8/8\n",
      "42500/42500 [==============================] - 7s - loss: 0.0579 - val_loss: 0.1077\n",
      "CPU times: user 1min 40s, sys: 3.43 s, total: 1min 44s\n",
      "Wall time: 1min 10s\n"
     ]
    },
    {
     "data": {
      "text/plain": [
       "<keras.callbacks.History at 0x11b1de390>"
      ]
     },
     "execution_count": 8,
     "metadata": {},
     "output_type": "execute_result"
    }
   ],
   "source": [
    "\n",
    "print(\"Building model...\")\n",
    "\n",
    "LAYER_ONE_SIZE = 1024\n",
    "\n",
    "model = Sequential()\n",
    "model.add(Dense(output_dim=LAYER_ONE_SIZE, input_dim=dims, init='glorot_uniform'))\n",
    "model.add(PReLU())\n",
    "model.add(BatchNormalization())\n",
    "model.add(Dropout(0.5))\n",
    "\n",
    "# model.add(Dense(LAYER_ONE_SIZE, LAYER_ONE_SIZE, init='glorot_uniform'))\n",
    "# model.add(PReLU((LAYER_ONE_SIZE,)))\n",
    "# model.add(BatchNormalization((LAYER_ONE_SIZE,)))\n",
    "# model.add(Dropout(0.5))\n",
    "\n",
    "# model.add(Dense(LAYER_ONE_SIZE, LAYER_ONE_SIZE, init='glorot_uniform'))\n",
    "# model.add(PReLU((LAYER_ONE_SIZE,)))\n",
    "# model.add(BatchNormalization((LAYER_ONE_SIZE,)))\n",
    "# model.add(Dropout(0.5))\n",
    "\n",
    "model.add(Dense(output_dim=nb_classes, input_dim=LAYER_ONE_SIZE, init='glorot_uniform'))\n",
    "model.add(Activation('softmax'))\n",
    "\n",
    "model.compile(loss='categorical_crossentropy', optimizer=\"adam\")\n",
    "\n",
    "print(\"Training model...\")\n",
    "\n",
    "%time model.fit(x, y, nb_epoch=8, batch_size=128, validation_split=0.15)  "
   ]
  },
  {
   "cell_type": "code",
   "execution_count": 9,
   "metadata": {
    "collapsed": false
   },
   "outputs": [],
   "source": [
    "p_x, p_y = zip(*test_data)\n",
    "\n",
    "p_x = np.array(p_x)\n",
    "p_x = p_x.reshape(10000, 784)\n",
    "\n",
    "p_y = np.array(p_y)\n",
    "p_y = p_y.reshape(10000)"
   ]
  },
  {
   "cell_type": "code",
   "execution_count": 17,
   "metadata": {
    "collapsed": false
   },
   "outputs": [
    {
     "name": "stdout",
     "output_type": "stream",
     "text": [
      "CPU times: user 547 ms, sys: 13.2 ms, total: 561 ms\n",
      "Wall time: 240 ms\n",
      "[  4.02844989e-06   2.72390957e-04   9.99713719e-01   5.38024096e-06\n",
      "   4.17215018e-09   2.35322858e-07   1.78867117e-06   4.43746873e-10\n",
      "   2.44387229e-06   1.14954324e-10]\n",
      "2\n"
     ]
    }
   ],
   "source": [
    "%time preds = model.predict(p_x)\n",
    "print(preds[1])\n",
    "print(np.argmax(preds[1]))"
   ]
  },
  {
   "cell_type": "code",
   "execution_count": 18,
   "metadata": {
    "collapsed": false
   },
   "outputs": [],
   "source": [
    "pred_idx = [np.argmax(a) for a in preds]"
   ]
  },
  {
   "cell_type": "code",
   "execution_count": 19,
   "metadata": {
    "collapsed": false
   },
   "outputs": [
    {
     "name": "stdout",
     "output_type": "stream",
     "text": [
      "10000\n"
     ]
    }
   ],
   "source": [
    "pairs = zip(pred_idx, p_y)\n",
    "print(len(p_y))"
   ]
  },
  {
   "cell_type": "code",
   "execution_count": 20,
   "metadata": {
    "collapsed": false
   },
   "outputs": [
    {
     "name": "stdout",
     "output_type": "stream",
     "text": [
      "9764\n"
     ]
    }
   ],
   "source": [
    "number_correct = sum([int(a == b) for a, b in pairs])\n",
    "print(number_correct)"
   ]
  },
  {
   "cell_type": "code",
   "execution_count": 21,
   "metadata": {
    "collapsed": false
   },
   "outputs": [
    {
     "name": "stdout",
     "output_type": "stream",
     "text": [
      "236\n"
     ]
    }
   ],
   "source": [
    "number_incorrect = len(p_y) - number_correct\n",
    "print(number_incorrect)"
   ]
  },
  {
   "cell_type": "code",
   "execution_count": 22,
   "metadata": {
    "collapsed": false
   },
   "outputs": [
    {
     "name": "stdout",
     "output_type": "stream",
     "text": [
      "0.9763999999023599\n"
     ]
    }
   ],
   "source": [
    "eps = 0.000001  # avoid division by zero\n",
    "success_rate = number_correct / float((number_correct + number_incorrect + eps))\n",
    "print(success_rate)"
   ]
  },
  {
   "cell_type": "code",
   "execution_count": null,
   "metadata": {
    "collapsed": true
   },
   "outputs": [],
   "source": []
  },
  {
   "cell_type": "code",
   "execution_count": null,
   "metadata": {
    "collapsed": true
   },
   "outputs": [],
   "source": []
  }
 ],
 "metadata": {
  "kernelspec": {
   "display_name": "Python 3",
   "language": "python",
   "name": "python3"
  },
  "language_info": {
   "codemirror_mode": {
    "name": "ipython",
    "version": 3
   },
   "file_extension": ".py",
   "mimetype": "text/x-python",
   "name": "python",
   "nbconvert_exporter": "python",
   "pygments_lexer": "ipython3",
   "version": "3.4.4"
  }
 },
 "nbformat": 4,
 "nbformat_minor": 0
}
